{
 "cells": [
  {
   "cell_type": "markdown",
   "metadata": {},
   "source": [
    "# Setting up and training a SimpleVGG16 model\n",
    "\n",
    "This notebook assumes, that your images are neatly segregeted in subdirectories, for example:\n",
    "```\n",
    "├── training\n",
    "|   ├── cat\n",
    "|   |   ├──cat0001.jpg\n",
    ".   .   .\n",
    ".   .   .\n",
    "|   |   └──cat0999.jpg\n",
    "|   ├── drop_bear\n",
    "|   |   ├──dropbear01.jpg\n",
    ".   .   .\n",
    ".   .   .\n",
    "|   |   └──dr0p-b34r.jpg\n",
    ".   .\n",
    ".   .\n",
    "|   └── zebra\n",
    "|       ├──zebra.jpg\n",
    ".       .\n",
    ".       .\n",
    "|       └──z12.jpg\n",
    "└── validation\n",
    "    ├── cat\n",
    "    |   ├──cat1000.jpg\n",
    "    .   .\n",
    "    .   .\n",
    "    |   └──cat1200.jpg\n",
    "    ├── drop_bear\n",
    "    |   ├──koala1.jpg\n",
    "    .   .\n",
    "    .   .\n",
    "    |   └──kbear.jpg\n",
    "    .\n",
    "    .\n",
    "    └── zebra\n",
    "        ├──z1.jpg\n",
    "        .\n",
    "        .\n",
    "        └──striped_horse.jpg\n",
    "```"
   ]
  },
  {
   "cell_type": "code",
   "execution_count": 1,
   "metadata": {},
   "outputs": [],
   "source": [
    "import json\n",
    "\n",
    "### Manage configuration file inside the notebook\n",
    "def backup_config():\n",
    "    i = 1\n",
    "    while os.path.exists(\"config.json.bak%d\" % i):\n",
    "        i += 1\n",
    "    os.rename(\"config.json\", \"config.json.bak%d\" % i)\n",
    "\n",
    "def write_config(updated_config: dict):\n",
    "    with open(\"config.json\", \"w\") as cf:\n",
    "        json.dump(CONFIG, cf, indent=4)\n",
    "\n",
    "CONFIG = {}\n",
    "def reload_config():\n",
    "    global CONFIG\n",
    "    with open(\"config.json\", \"r\") as cf:\n",
    "        CONFIG = json.load(cf)\n",
    "        \n",
    "### Load constants from configuration file\n",
    "reload_config()"
   ]
  },
  {
   "cell_type": "markdown",
   "metadata": {},
   "source": [
    "## Removing invalid images\n",
    "The purpose of the script below is to remove damaged files and non-RGB files."
   ]
  },
  {
   "cell_type": "code",
   "execution_count": 2,
   "metadata": {
    "scrolled": true
   },
   "outputs": [
    {
     "name": "stdout",
     "output_type": "stream",
     "text": [
      "No bad images found, nice!\n"
     ]
    }
   ],
   "source": [
    "from PIL import Image\n",
    "from itertools import chain\n",
    "import os\n",
    "import json\n",
    "\n",
    "from os import path\n",
    "\n",
    "training_dir = CONFIG[\"training_dir\"]\n",
    "validation_dir = CONFIG[\"training_dir\"]\n",
    "\n",
    "to_remove = []\n",
    "    \n",
    "\n",
    "for dirpath, _, filenames in chain(os.walk(training_dir), os.walk(validation_dir)):\n",
    "    for filename in filenames:\n",
    "        full_path = path.join(dirpath, filename)\n",
    "        try:\n",
    "            img = Image.open(full_path)\n",
    "        except IOError as e:\n",
    "            print(\"Bad file:\", str(e))\n",
    "            to_remove.append(full_path)\n",
    "        finally:\n",
    "            if img.mode != \"RGB\":\n",
    "                print(\"Image mode is not RGB\", full_path)\n",
    "                to_remove.append(full_path)             \n",
    "\n",
    "if not to_remove:\n",
    "    print(\"No bad images found, nice!\")"
   ]
  },
  {
   "cell_type": "code",
   "execution_count": 3,
   "metadata": {},
   "outputs": [
    {
     "name": "stdout",
     "output_type": "stream",
     "text": [
      "Removed 0 bad images\n"
     ]
    }
   ],
   "source": [
    "### The files displayed above will be removed from the disk ###\n",
    "for file_path in to_remove:\n",
    "    os.remove(file_path)\n",
    "print(f\"Removed {len(to_remove)} bad images\")"
   ]
  },
  {
   "cell_type": "markdown",
   "metadata": {},
   "source": [
    "## Adding classes to config file\n",
    "All subdirectories from the training_dir will be stored as class names"
   ]
  },
  {
   "cell_type": "code",
   "execution_count": 4,
   "metadata": {},
   "outputs": [
    {
     "name": "stdout",
     "output_type": "stream",
     "text": [
      "Classes in config: ['slav', 'wagon']\n",
      "Classes after update: ['slav', 'wagon']\n"
     ]
    }
   ],
   "source": [
    "print(\"Classes in config:\", CONFIG[\"classes\"])\n",
    "\n",
    "_, dirs, _ = next(os.walk(CONFIG[\"training_dir\"]))\n",
    "print(\"Classes after update:\", dirs)\n",
    "\n",
    "CONFIG[\"classes\"] = dirs\n",
    "backup_config()\n",
    "write_config(CONFIG)"
   ]
  },
  {
   "cell_type": "markdown",
   "metadata": {},
   "source": [
    "## Review important settings\n",
    "If the notebook crashes due to lack of memory, halve the batch_size and restart the notebook\n",
    "To change any of these values, update them in `config.json` and then reload_config() in this notebook"
   ]
  },
  {
   "cell_type": "code",
   "execution_count": 5,
   "metadata": {},
   "outputs": [
    {
     "name": "stdout",
     "output_type": "stream",
     "text": [
      "train_epochs: 40\n",
      "batch_size 1\n",
      "model_name SimpleVGG16\n",
      "input_width 224\n",
      "input_height 224\n",
      "patch_size [224, 224]\n",
      "target_class slav\n"
     ]
    }
   ],
   "source": [
    "print(\"train_epochs:\", CONFIG[\"train_epochs\"]) # How long should the model be trained for\n",
    "print(\"batch_size\", CONFIG[\"batch_size\"]) # decrease if you run out of memory\n",
    "print(\"model_name\", CONFIG[\"model_name\"]) # check the model directory for more models\n",
    "print(\"input_width\", CONFIG[\"input_width\"]) # Downscale training images to this size\n",
    "print(\"input_height\", CONFIG[\"input_height\"]) # Should be the same as input_width\n",
    "print(\"patch_size\", CONFIG[\"patch_size\"]) # The size of the generated patch (cannot be changed later!)\n",
    "print(\"target_class\", CONFIG[\"target_class\"]) # The class to generate patch for (can be changed later)"
   ]
  },
  {
   "cell_type": "markdown",
   "metadata": {},
   "source": [
    "## Training the model\n",
    "For better performance use `python train.py"
   ]
  },
  {
   "cell_type": "code",
   "execution_count": null,
   "metadata": {
    "scrolled": true
   },
   "outputs": [],
   "source": [
    "from train import train\n",
    "\n",
    "train(weights_output=\"network_weights.h5\")"
   ]
  }
 ],
 "metadata": {
  "kernelspec": {
   "display_name": "Python 3",
   "language": "python",
   "name": "python3"
  },
  "language_info": {
   "codemirror_mode": {
    "name": "ipython",
    "version": 3
   },
   "file_extension": ".py",
   "mimetype": "text/x-python",
   "name": "python",
   "nbconvert_exporter": "python",
   "pygments_lexer": "ipython3",
   "version": "3.7.5"
  }
 },
 "nbformat": 4,
 "nbformat_minor": 2
}
